{
  "cells": [
    {
      "cell_type": "code",
      "execution_count": null,
      "metadata": {
        "colab": {
          "base_uri": "https://localhost:8080/"
        },
        "id": "Jj3EqlYo_7PA",
        "outputId": "b2713e87-8c8f-4162-f6bb-f6cf7f662460"
      },
      "outputs": [
        {
          "output_type": "stream",
          "name": "stdout",
          "text": [
            "2.8.2\n"
          ]
        }
      ],
      "source": [
        "import tensorflow as tf\n",
        "print(tf.__version__)"
      ]
    },
    {
      "cell_type": "code",
      "execution_count": null,
      "metadata": {
        "colab": {
          "base_uri": "https://localhost:8080/"
        },
        "id": "O6ihpWnkNw7B",
        "outputId": "e6aa8005-8eb8-4610-82e1-2b0490132d9b"
      },
      "outputs": [
        {
          "output_type": "stream",
          "name": "stdout",
          "text": [
            "Mounted at /content/drive\n"
          ]
        }
      ],
      "source": [
        "from google.colab import drive\n",
        "drive.mount('/content/drive')"
      ]
    },
    {
      "cell_type": "markdown",
      "metadata": {
        "id": "harunVhkINc3"
      },
      "source": [
        "# Pre-processing of the images"
      ]
    },
    {
      "cell_type": "markdown",
      "metadata": {
        "id": "qRQ-yyROB9hi"
      },
      "source": [
        " importing the required packages"
      ]
    },
    {
      "cell_type": "code",
      "execution_count": null,
      "metadata": {
        "id": "NuRnI3SL-wcV"
      },
      "outputs": [],
      "source": [
        "from tensorflow.keras.layers import Input, Lambda, Dense, Flatten,Dropout\n",
        "from tensorflow.keras.models import Model\n",
        "from tensorflow.keras.applications.vgg19 import VGG19\n",
        "from tensorflow.keras.applications.vgg19 import preprocess_input\n",
        "from tensorflow.keras.applications.vgg16 import VGG16\n",
        "from tensorflow.keras.applications.vgg16 import preprocess_input\n",
        "from tensorflow.keras.preprocessing import image\n",
        "from tensorflow.keras.preprocessing.image import ImageDataGenerator\n",
        "from tensorflow.keras.models import Sequential\n",
        "import numpy as np\n",
        "import pandas as pd\n",
        "import os\n",
        "import cv2\n",
        "import matplotlib.pyplot as plt"
      ]
    },
    {
      "cell_type": "code",
      "execution_count": null,
      "metadata": {
        "id": "aBZOq7m7CAR_"
      },
      "outputs": [],
      "source": [
        "train_path=\"/content/drive/MyDrive/critical/output/train\"\n",
        "test_path=\"/content/drive/MyDrive/critical/output/test\"\n",
        "val_path=\"/content/drive/MyDrive/critical/output/val\""
      ]
    },
    {
      "cell_type": "code",
      "execution_count": null,
      "metadata": {
        "colab": {
          "base_uri": "https://localhost:8080/"
        },
        "id": "TnliWT2WELHR",
        "outputId": "12bfab31-c03a-414d-9e70-7751e9108f7b"
      },
      "outputs": [
        {
          "output_type": "stream",
          "name": "stdout",
          "text": [
            "/content/drive/MyDrive/critical/output/train\n"
          ]
        }
      ],
      "source": [
        "print(train_path)"
      ]
    },
    {
      "cell_type": "markdown",
      "source": [
        "x_train: Numpy arrays of the images of the training dataset\n",
        "\n",
        "y_train: Labels of the training dataset\n",
        "\n",
        "x_test: Numpy arrays of the images of the testing dataset\n",
        "\n",
        "y_test: Labels of the testing dataset\n",
        "\n",
        "x_val: Numpy arrays of the images of the validation dataset\n",
        "\n",
        "y_val: Labels of the validation dataset"
      ],
      "metadata": {
        "id": "oXGrLpwglEja"
      }
    },
    {
      "cell_type": "code",
      "execution_count": null,
      "metadata": {
        "id": "dwisOeD2FiLD"
      },
      "outputs": [],
      "source": [
        "x_train=[]\n",
        "count=0\n",
        "for folder in os.listdir(train_path):\n",
        "\n",
        "    sub_path=train_path+\"/\"+folder\n",
        "\n",
        "    for img in os.listdir(sub_path):\n",
        "\n",
        "        image_path=sub_path+\"/\"+img\n",
        "\n",
        "        img_arr=cv2.imread(image_path)\n",
        "        #print(image_path)\n",
        "\n",
        "        #try:\n",
        "           #img_arr = cv2.resize(img_arr, (224, 224), interpolation=cv2.INTER_AREA)          \n",
        "        #except:\n",
        "          #break\n",
        "\n",
        "        img_arr=cv2.resize(img_arr,(224,224))\n",
        "        #count=count+1\n",
        "        #print(count)\n",
        "        \n",
        "\n",
        "        #img_arr = cv2.resize(img_arr,(224,224),fx=0,fy=0, interpolation = cv2.INTER_CUBIC)\n",
        "\n",
        "        x_train.append(img_arr)\n",
        "\n",
        "\n",
        "x_test=[]\n",
        "\n",
        "for folder in os.listdir(test_path):\n",
        "\n",
        "    sub_path=test_path+\"/\"+folder\n",
        "\n",
        "    for img in os.listdir(sub_path):\n",
        "\n",
        "        image_path=sub_path+\"/\"+img\n",
        "\n",
        "        img_arr=cv2.imread(image_path)\n",
        "\n",
        "        #try:\n",
        "           #img_arr = cv2.resize(img_arr, (224, 224), interpolation=cv2.INTER_AREA)   \n",
        "        #except:\n",
        "          #break\n",
        "\n",
        "        img_arr=cv2.resize(img_arr,(224,224))\n",
        "\n",
        "        #img_arr = cv2.resize(img_arr,(224,224),fx=0,fy=0, interpolation = cv2.INTER_CUBIC)\n",
        "\n",
        "        x_test.append(img_arr)\n",
        "\n",
        "\n",
        "x_val=[]\n",
        "\n",
        "for folder in os.listdir(val_path):\n",
        "\n",
        "    sub_path=val_path+\"/\"+folder\n",
        "\n",
        "    for img in os.listdir(sub_path):\n",
        "\n",
        "        image_path=sub_path+\"/\"+img\n",
        "\n",
        "        img_arr=cv2.imread(image_path)\n",
        "\n",
        "        #try:\n",
        "           #img_arr = cv2.resize(img_arr, (224, 224), interpolation=cv2.INTER_AREA)      \n",
        "        #except:\n",
        "          #break\n",
        "\n",
        "        img_arr=cv2.resize(img_arr,(224,224))\n",
        "\n",
        "        #img_arr = cv2.resize(img_arr,(224,224),fx=0,fy=0, interpolation = cv2.INTER_CUBIC)\n",
        "\n",
        "        x_val.append(img_arr)"
      ]
    },
    {
      "cell_type": "markdown",
      "metadata": {
        "id": "7ytIlqKmCA64"
      },
      "source": [
        "x_train,x_test, and x_val must be divided by 255.0 for normalization"
      ]
    },
    {
      "cell_type": "code",
      "execution_count": null,
      "metadata": {
        "id": "-PwLx_O4HLCo"
      },
      "outputs": [],
      "source": [
        "train_x=np.array(x_train)\n",
        "test_x=np.array(x_test)\n",
        "val_x=np.array(x_val)"
      ]
    },
    {
      "cell_type": "code",
      "execution_count": null,
      "metadata": {
        "colab": {
          "base_uri": "https://localhost:8080/"
        },
        "id": "jhjaWvTHQx6h",
        "outputId": "32c9b44f-a4a2-4406-f21b-ebb667ebcb7f"
      },
      "outputs": [
        {
          "output_type": "execute_result",
          "data": {
            "text/plain": [
              "((2120, 224, 224, 3), (276, 224, 224, 3), (262, 224, 224, 3))"
            ]
          },
          "metadata": {},
          "execution_count": 8
        }
      ],
      "source": [
        "train_x.shape,test_x.shape,val_x.shape"
      ]
    },
    {
      "cell_type": "code",
      "execution_count": null,
      "metadata": {
        "id": "YW8BqD_GHVK2"
      },
      "outputs": [],
      "source": [
        "train_x=train_x/255.0\n",
        "test_x=test_x/255.0\n",
        "val_x=val_x/255.0"
      ]
    },
    {
      "cell_type": "markdown",
      "metadata": {
        "id": "ajVv0j0XHe3n"
      },
      "source": [
        "At last, let us compute the labels of the corresponding datasets using ImageDataGenerator.This is used because our images are stored in folders. We must walk through the folders and find out the corresponding labels of the images stored here."
      ]
    },
    {
      "cell_type": "code",
      "execution_count": null,
      "metadata": {
        "id": "kOzb2ycFHfAG"
      },
      "outputs": [],
      "source": [
        "train_datagen = ImageDataGenerator(rescale = 1./255)\n",
        "test_datagen = ImageDataGenerator(rescale = 1./255)\n",
        "val_datagen = ImageDataGenerator(rescale = 1./255)"
      ]
    },
    {
      "cell_type": "code",
      "execution_count": null,
      "metadata": {
        "colab": {
          "base_uri": "https://localhost:8080/"
        },
        "id": "jahdSQGtHn6X",
        "outputId": "484c5260-a961-4711-8613-d3023a34d272"
      },
      "outputs": [
        {
          "output_type": "stream",
          "name": "stdout",
          "text": [
            "Found 2120 images belonging to 6 classes.\n",
            "Found 276 images belonging to 6 classes.\n",
            "Found 262 images belonging to 6 classes.\n"
          ]
        }
      ],
      "source": [
        "training_set = train_datagen.flow_from_directory(train_path,\n",
        "                                                 target_size = (224,224),\n",
        "                                                 batch_size = 32,\n",
        "                                                 class_mode = 'categorical')\n",
        "test_set = test_datagen.flow_from_directory(test_path,\n",
        "                                            target_size = (224,224),\n",
        "                                            batch_size = 32,\n",
        "                                            class_mode = 'categorical')\n",
        "val_set = val_datagen.flow_from_directory(val_path,\n",
        "                                            target_size = (224,224),\n",
        "                                            batch_size = 32,\n",
        "                                            class_mode = 'categorical')"
      ]
    },
    {
      "cell_type": "code",
      "execution_count": null,
      "metadata": {
        "id": "0NNSPh3aH0rQ"
      },
      "outputs": [],
      "source": [
        "train_y=training_set.classes\n",
        "test_y=test_set.classes\n",
        "val_y=val_set.classes"
      ]
    },
    {
      "cell_type": "markdown",
      "metadata": {
        "id": "rnPv65D_H_qh"
      },
      "source": [
        "We must also understand how the classes have been encoded to interpret classification reports and confusion matrix later. To do this:"
      ]
    },
    {
      "cell_type": "code",
      "execution_count": null,
      "metadata": {
        "colab": {
          "base_uri": "https://localhost:8080/"
        },
        "id": "Xz_sP5bGH2Sv",
        "outputId": "92530ad3-75aa-41fe-8acf-6d318ef89020"
      },
      "outputs": [
        {
          "output_type": "execute_result",
          "data": {
            "text/plain": [
              "{'drone': 0,\n",
              " 'fighter-jet': 1,\n",
              " 'helicopter': 2,\n",
              " 'missile': 3,\n",
              " 'passenger-plane': 4,\n",
              " 'rocket': 5}"
            ]
          },
          "metadata": {},
          "execution_count": 13
        }
      ],
      "source": [
        "training_set.class_indices"
      ]
    },
    {
      "cell_type": "code",
      "execution_count": null,
      "metadata": {
        "colab": {
          "base_uri": "https://localhost:8080/"
        },
        "id": "bup-HMxcH36W",
        "outputId": "f05dac2d-4835-43f7-cb6b-99ee41c4f1ec"
      },
      "outputs": [
        {
          "output_type": "execute_result",
          "data": {
            "text/plain": [
              "((2120,), (276,), (262,))"
            ]
          },
          "metadata": {},
          "execution_count": 14
        }
      ],
      "source": [
        "train_y.shape,test_y.shape,val_y.shape"
      ]
    },
    {
      "cell_type": "markdown",
      "metadata": {
        "id": "ZnvJOoQDIYx-"
      },
      "source": [
        "# Model training"
      ]
    },
    {
      "cell_type": "markdown",
      "metadata": {
        "id": "MrzScOmpnVKF"
      },
      "source": [
        "## Model Building"
      ]
    },
    {
      "cell_type": "code",
      "execution_count": null,
      "metadata": {
        "id": "ghJwIr4sIavm",
        "colab": {
          "base_uri": "https://localhost:8080/"
        },
        "outputId": "11b699a1-e272-461f-afcf-6293f7ae48e4"
      },
      "outputs": [
        {
          "output_type": "stream",
          "name": "stdout",
          "text": [
            "Downloading data from https://storage.googleapis.com/tensorflow/keras-applications/vgg19/vgg19_weights_tf_dim_ordering_tf_kernels_notop.h5\n",
            "80142336/80134624 [==============================] - 0s 0us/step\n",
            "80150528/80134624 [==============================] - 0s 0us/step\n"
          ]
        }
      ],
      "source": [
        "IMAGE_SIZE = [224,224]\n",
        "vgg = VGG19(input_shape=IMAGE_SIZE + [3], weights='imagenet', include_top=False)"
      ]
    },
    {
      "cell_type": "code",
      "execution_count": null,
      "metadata": {
        "id": "SXIfOVWynZbv"
      },
      "outputs": [],
      "source": [
        "#do not train the pre-trained layers of VGG-19\n",
        "for layer in vgg.layers:\n",
        "    layer.trainable = False"
      ]
    },
    {
      "cell_type": "code",
      "execution_count": null,
      "metadata": {
        "id": "Tc7hXuvanrTo"
      },
      "outputs": [],
      "source": [
        "x = Flatten()(vgg.output)"
      ]
    },
    {
      "cell_type": "code",
      "execution_count": null,
      "metadata": {
        "id": "MWWBGZ4cntkl"
      },
      "outputs": [],
      "source": [
        "#adding output layer.Softmax classifier is used as it is multi-class classification\n",
        "prediction = Dense(6, activation='softmax')(x)\n",
        "\n",
        "model = Model(inputs=vgg.input, outputs=prediction)"
      ]
    },
    {
      "cell_type": "code",
      "execution_count": null,
      "metadata": {
        "colab": {
          "base_uri": "https://localhost:8080/"
        },
        "id": "FCTaG4Zdnxew",
        "outputId": "a42c871a-5e23-461b-d51a-66bc3692df00"
      },
      "outputs": [
        {
          "output_type": "stream",
          "name": "stdout",
          "text": [
            "Model: \"model\"\n",
            "_________________________________________________________________\n",
            " Layer (type)                Output Shape              Param #   \n",
            "=================================================================\n",
            " input_1 (InputLayer)        [(None, 224, 224, 3)]     0         \n",
            "                                                                 \n",
            " block1_conv1 (Conv2D)       (None, 224, 224, 64)      1792      \n",
            "                                                                 \n",
            " block1_conv2 (Conv2D)       (None, 224, 224, 64)      36928     \n",
            "                                                                 \n",
            " block1_pool (MaxPooling2D)  (None, 112, 112, 64)      0         \n",
            "                                                                 \n",
            " block2_conv1 (Conv2D)       (None, 112, 112, 128)     73856     \n",
            "                                                                 \n",
            " block2_conv2 (Conv2D)       (None, 112, 112, 128)     147584    \n",
            "                                                                 \n",
            " block2_pool (MaxPooling2D)  (None, 56, 56, 128)       0         \n",
            "                                                                 \n",
            " block3_conv1 (Conv2D)       (None, 56, 56, 256)       295168    \n",
            "                                                                 \n",
            " block3_conv2 (Conv2D)       (None, 56, 56, 256)       590080    \n",
            "                                                                 \n",
            " block3_conv3 (Conv2D)       (None, 56, 56, 256)       590080    \n",
            "                                                                 \n",
            " block3_conv4 (Conv2D)       (None, 56, 56, 256)       590080    \n",
            "                                                                 \n",
            " block3_pool (MaxPooling2D)  (None, 28, 28, 256)       0         \n",
            "                                                                 \n",
            " block4_conv1 (Conv2D)       (None, 28, 28, 512)       1180160   \n",
            "                                                                 \n",
            " block4_conv2 (Conv2D)       (None, 28, 28, 512)       2359808   \n",
            "                                                                 \n",
            " block4_conv3 (Conv2D)       (None, 28, 28, 512)       2359808   \n",
            "                                                                 \n",
            " block4_conv4 (Conv2D)       (None, 28, 28, 512)       2359808   \n",
            "                                                                 \n",
            " block4_pool (MaxPooling2D)  (None, 14, 14, 512)       0         \n",
            "                                                                 \n",
            " block5_conv1 (Conv2D)       (None, 14, 14, 512)       2359808   \n",
            "                                                                 \n",
            " block5_conv2 (Conv2D)       (None, 14, 14, 512)       2359808   \n",
            "                                                                 \n",
            " block5_conv3 (Conv2D)       (None, 14, 14, 512)       2359808   \n",
            "                                                                 \n",
            " block5_conv4 (Conv2D)       (None, 14, 14, 512)       2359808   \n",
            "                                                                 \n",
            " block5_pool (MaxPooling2D)  (None, 7, 7, 512)         0         \n",
            "                                                                 \n",
            " flatten (Flatten)           (None, 25088)             0         \n",
            "                                                                 \n",
            " dense (Dense)               (None, 6)                 150534    \n",
            "                                                                 \n",
            "=================================================================\n",
            "Total params: 20,174,918\n",
            "Trainable params: 150,534\n",
            "Non-trainable params: 20,024,384\n",
            "_________________________________________________________________\n"
          ]
        }
      ],
      "source": [
        "# view the structure of the model\n",
        "model.summary()"
      ]
    },
    {
      "cell_type": "markdown",
      "metadata": {
        "id": "v_lr13oHp37I"
      },
      "source": [
        "## Compiling the model"
      ]
    },
    {
      "cell_type": "code",
      "execution_count": null,
      "metadata": {
        "id": "W7iqUZ_Sp3BR"
      },
      "outputs": [],
      "source": [
        "model.compile(\n",
        "  loss='sparse_categorical_crossentropy',\n",
        "  optimizer=\"adam\",\n",
        "  metrics=['accuracy']\n",
        ")\n",
        "\n",
        "#model.compile(loss='categorical_crossentropy', optimizer='adam', metrics=['accuracy', 'val_accuracy'])"
      ]
    },
    {
      "cell_type": "markdown",
      "metadata": {
        "id": "ps5FLh4sqAZh"
      },
      "source": [
        "## Fitting the model"
      ]
    },
    {
      "cell_type": "code",
      "execution_count": null,
      "metadata": {
        "id": "MjyC4eHyp_OP"
      },
      "outputs": [],
      "source": [
        "from tensorflow.keras.callbacks import EarlyStopping\n",
        "early_stop=EarlyStopping(monitor='val_loss',mode='min',verbose=1,patience=10)\n",
        "#Early stopping to avoid overfitting of model"
      ]
    },
    {
      "cell_type": "code",
      "execution_count": null,
      "metadata": {
        "colab": {
          "base_uri": "https://localhost:8080/"
        },
        "id": "faIgKrZgqWpP",
        "outputId": "22c52838-5a72-48cc-f23a-21893d906284"
      },
      "outputs": [
        {
          "output_type": "stream",
          "name": "stdout",
          "text": [
            "Epoch 1/15\n",
            "67/67 [==============================] - 28s 226ms/step - loss: 1.3516 - accuracy: 0.5042 - val_loss: 3.2779 - val_accuracy: 0.1756\n",
            "Epoch 2/15\n",
            "67/67 [==============================] - 13s 192ms/step - loss: 0.6471 - accuracy: 0.7476 - val_loss: 3.7830 - val_accuracy: 0.2366\n",
            "Epoch 3/15\n",
            "67/67 [==============================] - 13s 194ms/step - loss: 0.4825 - accuracy: 0.8024 - val_loss: 3.7475 - val_accuracy: 0.1870\n",
            "Epoch 4/15\n",
            "67/67 [==============================] - 13s 195ms/step - loss: 0.3023 - accuracy: 0.9033 - val_loss: 3.9608 - val_accuracy: 0.3244\n",
            "Epoch 5/15\n",
            "67/67 [==============================] - 13s 198ms/step - loss: 0.2205 - accuracy: 0.9439 - val_loss: 4.0802 - val_accuracy: 0.2137\n",
            "Epoch 6/15\n",
            "67/67 [==============================] - 14s 203ms/step - loss: 0.1623 - accuracy: 0.9651 - val_loss: 4.1970 - val_accuracy: 0.2405\n",
            "Epoch 7/15\n",
            "67/67 [==============================] - 14s 203ms/step - loss: 0.1498 - accuracy: 0.9646 - val_loss: 4.4493 - val_accuracy: 0.1603\n",
            "Epoch 8/15\n",
            "67/67 [==============================] - 14s 203ms/step - loss: 0.1381 - accuracy: 0.9646 - val_loss: 4.6136 - val_accuracy: 0.1679\n",
            "Epoch 9/15\n",
            "67/67 [==============================] - 14s 204ms/step - loss: 0.1103 - accuracy: 0.9816 - val_loss: 4.7203 - val_accuracy: 0.1794\n",
            "Epoch 10/15\n",
            "67/67 [==============================] - 14s 205ms/step - loss: 0.1094 - accuracy: 0.9774 - val_loss: 5.0563 - val_accuracy: 0.2786\n",
            "Epoch 11/15\n",
            "67/67 [==============================] - 15s 222ms/step - loss: 0.0887 - accuracy: 0.9849 - val_loss: 5.0297 - val_accuracy: 0.1641\n",
            "Epoch 11: early stopping\n"
          ]
        }
      ],
      "source": [
        "from typing import Any\n",
        "# fit the model\n",
        "history = model.fit(\n",
        "  train_x,\n",
        "  train_y,\n",
        "  validation_data=(val_x,val_y),\n",
        "  epochs=15,\n",
        "  callbacks=[early_stop],\n",
        "  batch_size=32,\n",
        "  shuffle=True)"
      ]
    },
    {
      "cell_type": "code",
      "source": [
        "\n",
        "# saving and loading the .h5 model\n",
        " \n",
        "# save model\n",
        "model.save('classification_Model.h5')\n",
        "print('Model Saved!')\n",
        " \n",
        "# load model\n",
        "#savedModel=load_model('gfgModel.h5')\n",
        "#savedModel.summary()"
      ],
      "metadata": {
        "colab": {
          "base_uri": "https://localhost:8080/"
        },
        "id": "f3ct1bbM_gYH",
        "outputId": "b0bb91b9-ceca-40ca-a197-717f158b9f67"
      },
      "execution_count": null,
      "outputs": [
        {
          "output_type": "stream",
          "name": "stdout",
          "text": [
            "Model Saved!\n"
          ]
        }
      ]
    },
    {
      "cell_type": "code",
      "execution_count": null,
      "metadata": {
        "colab": {
          "base_uri": "https://localhost:8080/",
          "height": 513
        },
        "id": "_EQRelKqVTqE",
        "outputId": "a9f1639a-51bf-4f33-c8d1-d54e8ad5b3ba"
      },
      "outputs": [
        {
          "output_type": "display_data",
          "data": {
            "text/plain": [
              "<Figure size 432x288 with 1 Axes>"
            ],
            "image/png": "[encoded data removed]"
          },
          "metadata": {
            "needs_background": "light"
          }
        },
        {
          "output_type": "display_data",
          "data": {
            "text/plain": [
              "<Figure size 432x288 with 1 Axes>"
            ],
            "image/png": "[encoded data removed]"
          },
          "metadata": {
            "needs_background": "light"
          }
        }
      ],
      "source": [
        "# accuracies\n",
        "\n",
        "plt.plot(history.history['accuracy'], label='train acc')\n",
        "\n",
        "plt.plot(history.history['val_accuracy'], label='val acc')\n",
        "\n",
        "plt.legend()\n",
        "\n",
        "#plt.savefig('vgg-acc-rps-1.png')\n",
        "\n",
        "plt.show()\n",
        "\n",
        "\n",
        "# loss\n",
        "plt.plot(history.history['loss'], label='train loss')\n",
        "plt.plot(history.history['val_loss'], label='val loss')\n",
        "plt.legend()\n",
        "#plt.savefig('vgg-loss-rps-1.png')\n",
        "plt.show()"
      ]
    },
    {
      "cell_type": "markdown",
      "metadata": {
        "id": "SMIdlGpvV16X"
      },
      "source": [
        "# Model Evaluation"
      ]
    },
    {
      "cell_type": "code",
      "execution_count": null,
      "metadata": {
        "colab": {
          "base_uri": "https://localhost:8080/"
        },
        "id": "XMP1gDD7V2_N",
        "outputId": "6df693e5-d486-4438-b5db-4748aa886e65"
      },
      "outputs": [
        {
          "output_type": "stream",
          "name": "stdout",
          "text": [
            "9/9 [==============================] - 4s 411ms/step - loss: 5.3865 - accuracy: 0.2246\n"
          ]
        },
        {
          "output_type": "execute_result",
          "data": {
            "text/plain": [
              "[5.386519908905029, 0.2246376872062683]"
            ]
          },
          "metadata": {},
          "execution_count": 25
        }
      ],
      "source": [
        "model.evaluate(test_x,test_y,batch_size=32)"
      ]
    },
    {
      "cell_type": "code",
      "execution_count": null,
      "metadata": {
        "id": "9E388F7FZM74"
      },
      "outputs": [],
      "source": [
        "from sklearn.metrics import accuracy_score,classification_report,confusion_matrix\n",
        "import numpy as np"
      ]
    },
    {
      "cell_type": "code",
      "execution_count": null,
      "metadata": {
        "colab": {
          "base_uri": "https://localhost:8080/"
        },
        "id": "1jKhQ_M9ZO3_",
        "outputId": "62eaad18-bbc8-4424-c125-dd57c420d9ce"
      },
      "outputs": [
        {
          "output_type": "stream",
          "name": "stdout",
          "text": [
            "[3 5 4 4 4 0 4 5 3 3 4 4 4 4 4 4 4 4 5 4 3 4 5 4 4 4 3 4 4 5 4 4 4 5 0 4 5\n",
            " 4 5 5 3 5 4 4 4 3 3 4 4 4 4 4 4 4 3 4 0 0 1 1 1 1 0 0 0 0 0 1 1 0 1 1 1 1\n",
            " 2 0 0 1 1 1 5 1 0 1 0 0 0 0 0 0 0 1 1 1 0 0 2 1 0 0 0 0 0 3 0 0 0 0 0 0 0\n",
            " 0 0 0 2 3 2 0 0 0 0 0 0 0 0 0 0 0 0 0 0 0 0 1 0 0 0 0 0 5 2 0 0 0 0 0 0 0\n",
            " 4 5 2 2 0 2 2 2 2 3 2 3 2 2 3 2 5 2 2 2 5 2 2 2 2 3 2 2 2 2 3 2 0 2 2 0 5\n",
            " 0 3 3 3 3 3 3 3 3 3 3 3 3 3 3 3 3 3 3 2 3 3 3 3 3 3 2 3 3 3 3 3 3 3 3 3 3\n",
            " 3 3 3 3 3 3 3 5 3 3 3 3 3 3 3 3 3 2 3 3 3 3 3 3 3 3 5 5 5 5 5 5 5 5 4 5 5\n",
            " 5 5 5 5 5 5 5 5 5 3 5 5 5 5 5 5 5]\n"
          ]
        }
      ],
      "source": [
        "#predict\n",
        "#print(test_x)\n",
        "y_pred=model.predict(test_x)\n",
        "y_pred=np.argmax(y_pred,axis=1)\n",
        "print(y_pred)"
      ]
    },
    {
      "cell_type": "code",
      "execution_count": null,
      "metadata": {
        "colab": {
          "base_uri": "https://localhost:8080/"
        },
        "id": "Gb9TzSUcZUC1",
        "outputId": "c4b8c23e-0f62-4dde-8369-2f9181e21b31"
      },
      "outputs": [
        {
          "output_type": "stream",
          "name": "stdout",
          "text": [
            "[[ 2 11 50  6  0  0]\n",
            " [ 0 15  5  0  0  0]\n",
            " [ 0  1  4 24  2  1]\n",
            " [ 9  0  2 15 35 14]\n",
            " [35  0  0  1  0  1]\n",
            " [10  1  1  4  1 26]]\n"
          ]
        }
      ],
      "source": [
        "#get confusion matrix\n",
        "print(confusion_matrix(y_pred,test_y))"
      ]
    },
    {
      "cell_type": "code",
      "execution_count": null,
      "metadata": {
        "colab": {
          "base_uri": "https://localhost:8080/",
          "height": 321
        },
        "id": "o4TATLoj3Cca",
        "outputId": "c149c961-eb57-46d7-bed2-b6414c575158"
      },
      "outputs": [
        {
          "output_type": "stream",
          "name": "stdout",
          "text": [
            "<class 'numpy.ndarray'>\n",
            "[4]\n",
            "Drone\n"
          ]
        },
        {
          "output_type": "display_data",
          "data": {
            "text/plain": [
              "<Figure size 432x288 with 1 Axes>"
            ],
            "image/png": "[encoded data removed]"
          },
          "metadata": {
            "needs_background": "light"
          }
        }
      ],
      "source": [
        "#import numpy as np\n",
        "#import matplotlib.pyplot as plt\n",
        "# Pre-Processing test data same as train data.\n",
        "path=\"/content/drive/MyDrive/drone/00000013.jpg\"\n",
        "\n",
        "from keras.preprocessing import image\n",
        "def prepare(img_path):\n",
        "    img = image.load_img(img_path, target_size=(224,224))\n",
        "    x = image.img_to_array(img)\n",
        "    x = x/255\n",
        "    return np.expand_dims(x, axis=0)\n",
        "\n",
        "result = model.predict([prepare(path)])\n",
        "d=image.load_img(path)\n",
        "plt.imshow(d)\n",
        "x=np.argmax(result,axis=1)\n",
        "print(type(x))\n",
        "\n",
        "print(x)\n",
        "if x == 0:\n",
        "  print(\"Missile\")\n",
        "elif x==1:\n",
        "  print(\"Rocket\")\n",
        "elif x==2:\n",
        "  print(\"Passenger Plane\")\n",
        "elif x==3:\n",
        "  print(\"Helicopter\")\n",
        "elif x==4:\n",
        "  print(\"Drone\")\n",
        "else:\n",
        "  print(\"Fighter Jet\")"
      ]
    }
  ],
  "metadata": {
    "accelerator": "GPU",
    "colab": {
      "provenance": []
    },
    "gpuClass": "standard",
    "kernelspec": {
      "display_name": "Python 3",
      "name": "python3"
    },
    "language_info": {
      "name": "python"
    }
  },
  "nbformat": 4,
  "nbformat_minor": 0
}